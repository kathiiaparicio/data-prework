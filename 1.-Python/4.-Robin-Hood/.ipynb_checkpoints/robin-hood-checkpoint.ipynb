{
 "cells": [
  {
   "cell_type": "markdown",
   "metadata": {},
   "source": [
    "<img src=\"https://bit.ly/2VnXWr2\" width=\"100\" align=\"left\"/>"
   ]
  },
  {
   "cell_type": "markdown",
   "metadata": {},
   "source": [
    "# Robin Hood\n",
    "Robin Hood has entered a competition to win the archery contest in Sherwood. With his bow and arrows, he needs to shoot on a target and try to hit as close as possible to the center.\n",
    "\n",
    "![](images/arrows.jpg)\n",
    "\n",
    "## Context\n",
    "In this challenge, the landing position of arrows shot by archers in the competition will be represented using 2-dimensional coordinates. \n",
    "\n",
    "In the 2-dimensional space, a point can be defined by a pair of values that correspond to the horizontal coordinate (x) and the vertical coordinate (y). For example, in our case, an arrow that hits the center of the archery target will land in position (0, 0) on the coordinate axes. \n",
    "\n",
    "The space can be divided into 4 zones (quadrants): Q1, Q2, Q3, Q4. If a point is in Q1, both its x coordinate and y coordinate are positive. Any point with a null x or y coordinate is considered to not belong to any quadrant. \n",
    "\n",
    "If you want to know more about the cartesian coordinate system, you can check this [link](https://en.wikipedia.org/wiki/Cartesian_coordinate_system). \n",
    "\n",
    "## Tools\n",
    "You don't necessarily need to use all the tools. Maybe you opt to use some of them or completely different ones, they are given to help you shape the exercise. Programming exercises can be solved in many different ways.\n",
    "* Data structures: **lists, sets, tuples**\n",
    "* Conditional statements: **if-elif-else**\n",
    "* Loop: **while/for**\n",
    "* Minimum (optional sorting)\n",
    "\n",
    "## Tasks\n",
    "Robin Hood has hit the following points:"
   ]
  },
  {
   "cell_type": "code",
   "execution_count": 7,
   "metadata": {},
   "outputs": [],
   "source": [
    "points = [(4, 5), (-0, 2), (4, 7), (1, -3), (3, -2), (4, 5), (3, 2), (5, 7), (-5, 7), (2, 2), (-4, 5), (0, -2),\n",
    "          (-4, 7), (-1, 3), (-3, 2), (-4, -5), (-3, 2), (5, 7), (5, 7), (2, 2), (9, 9), (-8, -9)]"
   ]
  },
  {
   "cell_type": "markdown",
   "metadata": {},
   "source": [
    "#### 1. Robin Hood is famous for hitting an arrow with another arrow. Find the coordinates of the points where an arrow hits another arrow."
   ]
  },
  {
   "cell_type": "code",
   "execution_count": 6,
   "metadata": {},
   "outputs": [
    {
     "name": "stdout",
     "output_type": "stream",
     "text": [
      "Las Coordenadas donde Robin Hood atinó dos Flechas son los siguientes[(4, 5), (-3, 2), (5, 7), (2, 2)]\n"
     ]
    }
   ],
   "source": [
    "unico = []\n",
    "repetidos = []\n",
    "for x in points:\n",
    "    if x not in unico:\n",
    "        unico.append(x)\n",
    "    else:\n",
    "        if x not in repetidos:\n",
    "            repetidos.append(x)\n",
    "            \n",
    "print(\"Las Coordenadas donde Robin Hood atinó dos Flechas son los siguientes\" +str(repetidos) )\n"
   ]
  },
  {
   "cell_type": "markdown",
   "metadata": {},
   "source": [
    "#### 2. Calculate how many arrows have fallen in each quadrant. \n",
    "**Note**: the arrows that fall in the axis (x=0 or y=0) don't belong to any quadrant."
   ]
  },
  {
   "cell_type": "code",
   "execution_count": 8,
   "metadata": {},
   "outputs": [
    {
     "name": "stdout",
     "output_type": "stream",
     "text": [
      "En el primer cuadrante cayeron:11Flechas\n",
      "En el segundo cuadrante cayeron:6Flechas\n",
      "En el tercer cuadrante cayeron:3Flechas\n",
      "En el cuarto cuadrante cayeron:2Flechas\n"
     ]
    }
   ],
   "source": [
    "q1=0\n",
    "q2=0\n",
    "q3=0\n",
    "q4=0\n",
    "for a in points:\n",
    "    if (a[0]>=0) & (a[1]>=0):\n",
    "        q1 = q1 + 1\n",
    "    elif (a[0]<=0) & (a[1]>=0):\n",
    "        q2 = q2 + 1\n",
    "    elif (a[0]<=0) & (a[1]<=0): \n",
    "        q3 = q3 + 1\n",
    "    else:\n",
    "        q4 = q4 + 1\n",
    "        \n",
    "print(\"En el primer cuadrante cayeron:\" +str(q1)+ \"Flechas\")\n",
    "print(\"En el segundo cuadrante cayeron:\" +str(q2)+ \"Flechas\")\n",
    "print(\"En el tercer cuadrante cayeron:\" +str(q3)+ \"Flechas\")\n",
    "print(\"En el cuarto cuadrante cayeron:\" +str(q4)+ \"Flechas\")\n",
    "\n",
    "        "
   ]
  },
  {
   "cell_type": "markdown",
   "metadata": {},
   "source": [
    "#### 3. Find the point closest to the center. Calculate its distance to the center. \n",
    "Take into account that there might be more than one point at the minimum distance to the center.\n",
    "\n",
    "**Hint**: Use the Euclidean distance. You can find more information about it [here](https://en.wikipedia.org/wiki/Euclidean_distance).  \n",
    "**Hint**: Defining a function that calculates the distance to the center can help."
   ]
  },
  {
   "cell_type": "code",
   "execution_count": 10,
   "metadata": {},
   "outputs": [
    {
     "name": "stdout",
     "output_type": "stream",
     "text": [
      "La distancia mas cerca al origen es:2 Unidades\n"
     ]
    }
   ],
   "source": [
    "a= (0,0)\n",
    "\n",
    "def distance(x,y):\n",
    "    dist = (x**2 + y**2)**0.5\n",
    "    return dist\n",
    "j=0\n",
    "x=0\n",
    "b=0\n",
    "y=0\n",
    "dist1= []\n",
    "d=0\n",
    "m=0\n",
    "for i in points:\n",
    "    if j == 0:\n",
    "        b = i\n",
    "        x=(a[0]-b[0])\n",
    "        y=(a[1]-b[1])\n",
    "        d=int(distance(x,y))\n",
    "        dist1.append(d)\n",
    "    else:  \n",
    "        b = i\n",
    "        x=(a[0]-b[0])\n",
    "        y=(a[1]-b[1])\n",
    "        d=int(distance(x,y))\n",
    "        dist1.append(d)\n",
    "    j = j+1\n",
    "    \n",
    "    \n",
    "m=min(dist1)    \n",
    "print(\"La distancia mas cerca al origen es:\" +str(m)+ \" Unidades\")\n",
    "    "
   ]
  },
  {
   "cell_type": "markdown",
   "metadata": {},
   "source": [
    "#### 4. If the archery target has a radius of 9, calculate the number of arrows that won't hit the target. \n",
    "**Hint**: Use the function created in step 3. "
   ]
  },
  {
   "cell_type": "code",
   "execution_count": 17,
   "metadata": {},
   "outputs": [
    {
     "name": "stdout",
     "output_type": "stream",
     "text": [
      "este es el total de flechas que no dieron en el blanco: 22\n"
     ]
    }
   ],
   "source": [
    "f=0\n",
    "h=0\n",
    "for i in dist1:\n",
    "    if i != 0:\n",
    "        f = f + 1  \n",
    "\n",
    "    \n",
    "print(\"este es el total de flechas que no dieron en el blanco: \" +str(f))"
   ]
  },
  {
   "cell_type": "code",
   "execution_count": null,
   "metadata": {},
   "outputs": [],
   "source": []
  }
 ],
 "metadata": {
  "kernelspec": {
   "display_name": "Python 3",
   "language": "python",
   "name": "python3"
  },
  "language_info": {
   "codemirror_mode": {
    "name": "ipython",
    "version": 3
   },
   "file_extension": ".py",
   "mimetype": "text/x-python",
   "name": "python",
   "nbconvert_exporter": "python",
   "pygments_lexer": "ipython3",
   "version": "3.8.5"
  }
 },
 "nbformat": 4,
 "nbformat_minor": 2
}
